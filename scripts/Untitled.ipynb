{
 "cells": [
  {
   "cell_type": "code",
   "execution_count": 272,
   "id": "3c9a3a21-4a49-4394-8ba1-189f2b605926",
   "metadata": {},
   "outputs": [
    {
     "name": "stdout",
     "output_type": "stream",
     "text": [
      "11044.784736505908\n",
      "╔═══════════════════════╗\n",
      "║TreeSequence           ║\n",
      "╠═══════════════╤═══════╣\n",
      "║Trees          │      1║\n",
      "╟───────────────┼───────╢\n",
      "║Sequence Length│ 1000.0║\n",
      "╟───────────────┼───────╢\n",
      "║Sample Nodes   │      8║\n",
      "╟───────────────┼───────╢\n",
      "║Total Size     │2.6 KiB║\n",
      "╚═══════════════╧═══════╝\n",
      "╔═══════════╤════╤═════════╤════════════╗\n",
      "║Table      │Rows│Size     │Has Metadata║\n",
      "╠═══════════╪════╪═════════╪════════════╣\n",
      "║Edges      │  14│396 Bytes│          No║\n",
      "╟───────────┼────┼─────────┼────────────╢\n",
      "║Individuals│   4│ 76 Bytes│          No║\n",
      "╟───────────┼────┼─────────┼────────────╢\n",
      "║Migrations │   0│  4 Bytes│          No║\n",
      "╟───────────┼────┼─────────┼────────────╢\n",
      "║Mutations  │   0│  8 Bytes│          No║\n",
      "╟───────────┼────┼─────────┼────────────╢\n",
      "║Nodes      │  15│364 Bytes│          No║\n",
      "╟───────────┼────┼─────────┼────────────╢\n",
      "║Populations│   1│216 Bytes│         Yes║\n",
      "╟───────────┼────┼─────────┼────────────╢\n",
      "║Provenances│   1│  1.4 KiB│          No║\n",
      "╟───────────┼────┼─────────┼────────────╢\n",
      "║Sites      │   0│  8 Bytes│          No║\n",
      "╚═══════════╧════╧═════════╧════════════╝\n",
      "\n",
      "[Population(initial_size=175000, growth_rate=0, name='pop_0', description='', extra_metadata={}, default_sampling_time=None, initially_active=None, id=0)]\n"
     ]
    }
   ],
   "source": [
    "import msprime\n",
    "from IPython.display import SVG, display\n",
    "demography = msprime.Demography()\n",
    "demography.add_population(initial_size = 175000)\n",
    "demography.add_population_parameters_change(time = 1249, initial_size = 350)\n",
    "demography.add_population_parameters_change(time = 1250, initial_size = 18500)\n",
    "ts = msprime.sim_ancestry(4, demography = demography, sequence_length = 1000)\n",
    "#SVG(ts.draw_svg())\n",
    "#mts = msprime.sim_mutations(ts, model = 'JC69', rate = 1e-9)\n",
    "#SVG(mts.draw_svg(y_axis=True, size=(500,200)))\n",
    "tree = ts.first()\n",
    "print(tree.tmrca(0,1))\n",
    "print(ts)\n",
    "print(demography.populations)"
   ]
  },
  {
   "cell_type": "code",
   "execution_count": 264,
   "id": "77f03feb-1249-4eb7-9c57-e970313f1e8f",
   "metadata": {},
   "outputs": [
    {
     "name": "stdout",
     "output_type": "stream",
     "text": [
      "149563.89382273995\n"
     ]
    }
   ],
   "source": [
    "import msprime\n",
    "from IPython.display import SVG, display\n",
    "demography = msprime.Demography()\n",
    "demography.add_population(initial_size = 175000)\n",
    "ts = msprime.sim_ancestry(4, demography = demography, sequence_length = 1000)\n",
    "#SVG(ts.draw_svg())\n",
    "#mts = msprime.sim_mutations(ts, model = 'JC69', rate = 1e-9)\n",
    "#SVG(mts.draw_svg(y_axis=True))\n",
    "tree = ts.first()\n",
    "print(tree.tmrca(0,1))"
   ]
  }
 ],
 "metadata": {
  "kernelspec": {
   "display_name": "Python 3 (ipykernel)",
   "language": "python",
   "name": "python3"
  },
  "language_info": {
   "codemirror_mode": {
    "name": "ipython",
    "version": 3
   },
   "file_extension": ".py",
   "mimetype": "text/x-python",
   "name": "python",
   "nbconvert_exporter": "python",
   "pygments_lexer": "ipython3",
   "version": "3.8.10"
  }
 },
 "nbformat": 4,
 "nbformat_minor": 5
}
